{
 "cells": [
  {
   "cell_type": "code",
   "execution_count": 7,
   "metadata": {},
   "outputs": [
    {
     "name": "stdout",
     "output_type": "stream",
     "text": [
      "10 bukan bilangan prima\n"
     ]
    }
   ],
   "source": [
    "# LATIHAN 1\n",
    "\n",
    "def cek_prima(n, i=2):\n",
    "    if n < 2:\n",
    "        return False\n",
    "    \n",
    "    if n == 2:\n",
    "        return True\n",
    "    \n",
    "    if n % 2 == 0:\n",
    "        return False\n",
    "\n",
    "    if i * i > n:\n",
    "        return True\n",
    "\n",
    "    if n % i == 0:\n",
    "        return False\n",
    "\n",
    "    return cek_prima(n, i + 2)\n",
    "\n",
    "bilangan = int(input(\"Masukkan bilangan: \"))\n",
    "if cek_prima(bilangan):\n",
    "    print(f\"{bilangan} adalah bilangan prima\")\n",
    "else:\n",
    "    print(f\"{bilangan} bukan bilangan prima\")"
   ]
  },
  {
   "cell_type": "code",
   "execution_count": 14,
   "metadata": {},
   "outputs": [
    {
     "name": "stdout",
     "output_type": "stream",
     "text": [
      "'malam' adalah palindrom.\n"
     ]
    }
   ],
   "source": [
    "# LATIHAN 2\n",
    "\n",
    "def is_palindrome(s):\n",
    "    \"\"\"\n",
    "    Fungsi rekursif untuk mengecek apakah string s adalah palindrom.\n",
    "    Sebuah palindrom adalah string yang sama jika dibaca dari depan atau belakang.\n",
    "\n",
    "    Args:\n",
    "        s (str): String yang akan dicek.\n",
    "\n",
    "    Returns:\n",
    "        bool: True jika s adalah palindrom, False jika bukan.\n",
    "    \"\"\"\n",
    "    s = s.replace(\" \", \"\").lower()\n",
    "\n",
    "    if len(s) <= 1:\n",
    "        return True\n",
    "\n",
    "    if s[0] != s[-1]:\n",
    "        return False\n",
    "\n",
    "    return is_palindrome(s[1:-1])\n",
    "\n",
    "input_str = input(\"Masukkan sebuah kalimat: \")\n",
    "\n",
    "if is_palindrome(input_str):\n",
    "    print(f\"'{input_str}' adalah palindrom.\")\n",
    "else:\n",
    "    print(f\"'{input_str}' bukan palindrom.\")"
   ]
  },
  {
   "cell_type": "code",
   "execution_count": 15,
   "metadata": {},
   "outputs": [
    {
     "name": "stdout",
     "output_type": "stream",
     "text": [
      "25\n",
      "100\n"
     ]
    }
   ],
   "source": [
    "# LATIHAN 3\n",
    "\n",
    "def jumlah_deret_ganjil(n):\n",
    "    \"\"\"\n",
    "    Fungsi rekursif untuk menghitung jumlah deret ganjil dari 1 + 3 + 7 + ... + n.\n",
    "\n",
    "    Args:\n",
    "        n (int): Batas akhir deret.\n",
    "\n",
    "    Returns:\n",
    "        int: Jumlah deret ganjil hingga n.\n",
    "    \"\"\"\n",
    "    if n == 0:\n",
    "        return 0\n",
    "\n",
    "    suku_berikutnya = 2 * n - 1\n",
    "\n",
    "    jumlah_sebelumnya = jumlah_deret_ganjil(n - 1)\n",
    "\n",
    "    return jumlah_sebelumnya + suku_berikutnya\n",
    "\n",
    "print(jumlah_deret_ganjil(5))\n",
    "print(jumlah_deret_ganjil(10))"
   ]
  },
  {
   "cell_type": "code",
   "execution_count": 16,
   "metadata": {},
   "outputs": [
    {
     "name": "stdout",
     "output_type": "stream",
     "text": [
      "Jumlah digit dari 234 adalah 9\n"
     ]
    }
   ],
   "source": [
    "# LATIHAN 4\n",
    "\n",
    "def jumlah_digit(n):\n",
    "    if n < 10:\n",
    "        return n\n",
    "    else:\n",
    "        return n % 10 + jumlah_digit(n // 10)\n",
    "\n",
    "angka = 234\n",
    "hasil = jumlah_digit(angka)\n",
    "print(f\"Jumlah digit dari {angka} adalah {hasil}\")"
   ]
  },
  {
   "cell_type": "code",
   "execution_count": 17,
   "metadata": {},
   "outputs": [
    {
     "name": "stdout",
     "output_type": "stream",
     "text": [
      "Kombinasi dari 5 dan 3 adalah 10\n"
     ]
    }
   ],
   "source": [
    "# LATIHAN 5\n",
    "\n",
    "def kombinasi(n, r):\n",
    "    if r > n:\n",
    "        return 0\n",
    "    elif r == 0 or r == n:\n",
    "        return 1\n",
    "    else:\n",
    "        return kombinasi(n-1, r-1) + kombinasi(n-1, r)\n",
    "\n",
    "n = 5\n",
    "r = 3\n",
    "hasil = kombinasi(n, r)\n",
    "print(f\"Kombinasi dari {n} dan {r} adalah {hasil}\")"
   ]
  }
 ],
 "metadata": {
  "kernelspec": {
   "display_name": "Python 3",
   "language": "python",
   "name": "python3"
  },
  "language_info": {
   "codemirror_mode": {
    "name": "ipython",
    "version": 3
   },
   "file_extension": ".py",
   "mimetype": "text/x-python",
   "name": "python",
   "nbconvert_exporter": "python",
   "pygments_lexer": "ipython3",
   "version": "3.12.0"
  }
 },
 "nbformat": 4,
 "nbformat_minor": 2
}
